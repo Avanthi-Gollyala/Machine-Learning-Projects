{
 "cells": [
  {
   "cell_type": "code",
   "execution_count": 2,
   "id": "37fd989c",
   "metadata": {},
   "outputs": [],
   "source": [
    "import numpy as np\n",
    "import pandas as pd\n",
    "import os\n",
    "import matplotlib.pyplot as plt\n",
    "import seaborn as sns\n",
    "import warnings \n",
    "warnings.filterwarnings('ignore')"
   ]
  },
  {
   "cell_type": "code",
   "execution_count": 3,
   "id": "25f6edd1",
   "metadata": {},
   "outputs": [],
   "source": [
    "np.random.seed(101)\n",
    "x = np.random.rand(100,1)-0.5\n",
    "y= 3*x[:,0]**2 + 0.05 +np.random.randn(100)"
   ]
  },
  {
   "cell_type": "code",
   "execution_count": 5,
   "id": "6e5e99d0",
   "metadata": {},
   "outputs": [
    {
     "data": {
      "text/html": [
       "<div>\n",
       "<style scoped>\n",
       "    .dataframe tbody tr th:only-of-type {\n",
       "        vertical-align: middle;\n",
       "    }\n",
       "\n",
       "    .dataframe tbody tr th {\n",
       "        vertical-align: top;\n",
       "    }\n",
       "\n",
       "    .dataframe thead th {\n",
       "        text-align: right;\n",
       "    }\n",
       "</style>\n",
       "<table border=\"1\" class=\"dataframe\">\n",
       "  <thead>\n",
       "    <tr style=\"text-align: right;\">\n",
       "      <th></th>\n",
       "      <th>x</th>\n",
       "      <th>y</th>\n",
       "    </tr>\n",
       "  </thead>\n",
       "  <tbody>\n",
       "    <tr>\n",
       "      <th>0</th>\n",
       "      <td>0.016399</td>\n",
       "      <td>-0.995973</td>\n",
       "    </tr>\n",
       "    <tr>\n",
       "      <th>1</th>\n",
       "      <td>0.070668</td>\n",
       "      <td>1.357746</td>\n",
       "    </tr>\n",
       "    <tr>\n",
       "      <th>2</th>\n",
       "      <td>-0.471526</td>\n",
       "      <td>-0.750504</td>\n",
       "    </tr>\n",
       "    <tr>\n",
       "      <th>3</th>\n",
       "      <td>-0.328478</td>\n",
       "      <td>-0.120401</td>\n",
       "    </tr>\n",
       "    <tr>\n",
       "      <th>4</th>\n",
       "      <td>0.185277</td>\n",
       "      <td>-0.009552</td>\n",
       "    </tr>\n",
       "    <tr>\n",
       "      <th>...</th>\n",
       "      <td>...</td>\n",
       "      <td>...</td>\n",
       "    </tr>\n",
       "    <tr>\n",
       "      <th>95</th>\n",
       "      <td>0.342219</td>\n",
       "      <td>1.299139</td>\n",
       "    </tr>\n",
       "    <tr>\n",
       "      <th>96</th>\n",
       "      <td>-0.115062</td>\n",
       "      <td>0.420584</td>\n",
       "    </tr>\n",
       "    <tr>\n",
       "      <th>97</th>\n",
       "      <td>0.051666</td>\n",
       "      <td>-1.005041</td>\n",
       "    </tr>\n",
       "    <tr>\n",
       "      <th>98</th>\n",
       "      <td>0.210538</td>\n",
       "      <td>0.057598</td>\n",
       "    </tr>\n",
       "    <tr>\n",
       "      <th>99</th>\n",
       "      <td>0.175279</td>\n",
       "      <td>-0.803420</td>\n",
       "    </tr>\n",
       "  </tbody>\n",
       "</table>\n",
       "<p>100 rows × 2 columns</p>\n",
       "</div>"
      ],
      "text/plain": [
       "           x         y\n",
       "0   0.016399 -0.995973\n",
       "1   0.070668  1.357746\n",
       "2  -0.471526 -0.750504\n",
       "3  -0.328478 -0.120401\n",
       "4   0.185277 -0.009552\n",
       "..       ...       ...\n",
       "95  0.342219  1.299139\n",
       "96 -0.115062  0.420584\n",
       "97  0.051666 -1.005041\n",
       "98  0.210538  0.057598\n",
       "99  0.175279 -0.803420\n",
       "\n",
       "[100 rows x 2 columns]"
      ]
     },
     "execution_count": 5,
     "metadata": {},
     "output_type": "execute_result"
    }
   ],
   "source": [
    "df=pd.DataFrame()\n",
    "df['x'] = x.reshape(100)\n",
    "df['y'] = y\n",
    "df"
   ]
  },
  {
   "cell_type": "code",
   "execution_count": 6,
   "id": "e95840a5",
   "metadata": {},
   "outputs": [
    {
     "data": {
      "text/plain": [
       "Text(0.5, 1.0, 'X vs Y')"
      ]
     },
     "execution_count": 6,
     "metadata": {},
     "output_type": "execute_result"
    },
    {
     "data": {
      "image/png": "[encoded data removed]",
      "text/plain": [
       "<Figure size 640x480 with 1 Axes>"
      ]
     },
     "metadata": {},
     "output_type": "display_data"
    }
   ],
   "source": [
    "plt.scatter(df['x'],df['y'])\n",
    "plt.title('X vs Y')"
   ]
  },
  {
   "cell_type": "code",
   "execution_count": 7,
   "id": "71d7135b",
   "metadata": {},
   "outputs": [],
   "source": [
    "df['pred1'] = df['y'].mean()"
   ]
  },
  {
   "cell_type": "code",
   "execution_count": 8,
   "id": "84f9993e",
   "metadata": {},
   "outputs": [
    {
     "data": {
      "text/html": [
       "<div>\n",
       "<style scoped>\n",
       "    .dataframe tbody tr th:only-of-type {\n",
       "        vertical-align: middle;\n",
       "    }\n",
       "\n",
       "    .dataframe tbody tr th {\n",
       "        vertical-align: top;\n",
       "    }\n",
       "\n",
       "    .dataframe thead th {\n",
       "        text-align: right;\n",
       "    }\n",
       "</style>\n",
       "<table border=\"1\" class=\"dataframe\">\n",
       "  <thead>\n",
       "    <tr style=\"text-align: right;\">\n",
       "      <th></th>\n",
       "      <th>x</th>\n",
       "      <th>y</th>\n",
       "      <th>pred1</th>\n",
       "    </tr>\n",
       "  </thead>\n",
       "  <tbody>\n",
       "    <tr>\n",
       "      <th>0</th>\n",
       "      <td>0.016399</td>\n",
       "      <td>-0.995973</td>\n",
       "      <td>0.233664</td>\n",
       "    </tr>\n",
       "    <tr>\n",
       "      <th>1</th>\n",
       "      <td>0.070668</td>\n",
       "      <td>1.357746</td>\n",
       "      <td>0.233664</td>\n",
       "    </tr>\n",
       "    <tr>\n",
       "      <th>2</th>\n",
       "      <td>-0.471526</td>\n",
       "      <td>-0.750504</td>\n",
       "      <td>0.233664</td>\n",
       "    </tr>\n",
       "    <tr>\n",
       "      <th>3</th>\n",
       "      <td>-0.328478</td>\n",
       "      <td>-0.120401</td>\n",
       "      <td>0.233664</td>\n",
       "    </tr>\n",
       "    <tr>\n",
       "      <th>4</th>\n",
       "      <td>0.185277</td>\n",
       "      <td>-0.009552</td>\n",
       "      <td>0.233664</td>\n",
       "    </tr>\n",
       "  </tbody>\n",
       "</table>\n",
       "</div>"
      ],
      "text/plain": [
       "          x         y     pred1\n",
       "0  0.016399 -0.995973  0.233664\n",
       "1  0.070668  1.357746  0.233664\n",
       "2 -0.471526 -0.750504  0.233664\n",
       "3 -0.328478 -0.120401  0.233664\n",
       "4  0.185277 -0.009552  0.233664"
      ]
     },
     "execution_count": 8,
     "metadata": {},
     "output_type": "execute_result"
    }
   ],
   "source": [
    "df.head()"
   ]
  },
  {
   "cell_type": "code",
   "execution_count": 24,
   "id": "c56c7877",
   "metadata": {},
   "outputs": [],
   "source": [
    "df['loss1'] = df['y']-df['pred1']"
   ]
  },
  {
   "cell_type": "code",
   "execution_count": 11,
   "id": "7a67cbf7",
   "metadata": {},
   "outputs": [
    {
     "data": {
      "text/html": [
       "<div>\n",
       "<style scoped>\n",
       "    .dataframe tbody tr th:only-of-type {\n",
       "        vertical-align: middle;\n",
       "    }\n",
       "\n",
       "    .dataframe tbody tr th {\n",
       "        vertical-align: top;\n",
       "    }\n",
       "\n",
       "    .dataframe thead th {\n",
       "        text-align: right;\n",
       "    }\n",
       "</style>\n",
       "<table border=\"1\" class=\"dataframe\">\n",
       "  <thead>\n",
       "    <tr style=\"text-align: right;\">\n",
       "      <th></th>\n",
       "      <th>x</th>\n",
       "      <th>y</th>\n",
       "      <th>pred1</th>\n",
       "      <th>loss</th>\n",
       "    </tr>\n",
       "  </thead>\n",
       "  <tbody>\n",
       "    <tr>\n",
       "      <th>0</th>\n",
       "      <td>0.016399</td>\n",
       "      <td>-0.995973</td>\n",
       "      <td>0.233664</td>\n",
       "      <td>-1.229637</td>\n",
       "    </tr>\n",
       "    <tr>\n",
       "      <th>1</th>\n",
       "      <td>0.070668</td>\n",
       "      <td>1.357746</td>\n",
       "      <td>0.233664</td>\n",
       "      <td>1.124082</td>\n",
       "    </tr>\n",
       "    <tr>\n",
       "      <th>2</th>\n",
       "      <td>-0.471526</td>\n",
       "      <td>-0.750504</td>\n",
       "      <td>0.233664</td>\n",
       "      <td>-0.984168</td>\n",
       "    </tr>\n",
       "    <tr>\n",
       "      <th>3</th>\n",
       "      <td>-0.328478</td>\n",
       "      <td>-0.120401</td>\n",
       "      <td>0.233664</td>\n",
       "      <td>-0.354065</td>\n",
       "    </tr>\n",
       "    <tr>\n",
       "      <th>4</th>\n",
       "      <td>0.185277</td>\n",
       "      <td>-0.009552</td>\n",
       "      <td>0.233664</td>\n",
       "      <td>-0.243216</td>\n",
       "    </tr>\n",
       "  </tbody>\n",
       "</table>\n",
       "</div>"
      ],
      "text/plain": [
       "          x         y     pred1      loss\n",
       "0  0.016399 -0.995973  0.233664 -1.229637\n",
       "1  0.070668  1.357746  0.233664  1.124082\n",
       "2 -0.471526 -0.750504  0.233664 -0.984168\n",
       "3 -0.328478 -0.120401  0.233664 -0.354065\n",
       "4  0.185277 -0.009552  0.233664 -0.243216"
      ]
     },
     "execution_count": 11,
     "metadata": {},
     "output_type": "execute_result"
    }
   ],
   "source": [
    "df.head()"
   ]
  },
  {
   "cell_type": "code",
   "execution_count": 12,
   "id": "10065898",
   "metadata": {},
   "outputs": [
    {
     "data": {
      "text/plain": [
       "Text(0.5, 1.0, 'X vs Y')"
      ]
     },
     "execution_count": 12,
     "metadata": {},
     "output_type": "execute_result"
    },
    {
     "data": {
      "image/png": "[encoded data removed]",
      "text/plain": [
       "<Figure size 640x480 with 1 Axes>"
      ]
     },
     "metadata": {},
     "output_type": "display_data"
    }
   ],
   "source": [
    "plt.scatter(df['x'], df['y'])\n",
    "plt.plot(df['x'], df['pred1'], color = 'red')\n",
    "plt.title('X vs Y')"
   ]
  },
  {
   "cell_type": "code",
   "execution_count": 33,
   "id": "c424fba8",
   "metadata": {},
   "outputs": [
    {
     "data": {
      "text/html": [
       "<style>#sk-container-id-6 {color: black;background-color: white;}#sk-container-id-6 pre{padding: 0;}#sk-container-id-6 div.sk-toggleable {background-color: white;}#sk-container-id-6 label.sk-toggleable__label {cursor: pointer;display: block;width: 100%;margin-bottom: 0;padding: 0.3em;box-sizing: border-box;text-align: center;}#sk-container-id-6 label.sk-toggleable__label-arrow:before {content: \"▸\";float: left;margin-right: 0.25em;color: #696969;}#sk-container-id-6 label.sk-toggleable__label-arrow:hover:before {color: black;}#sk-container-id-6 div.sk-estimator:hover label.sk-toggleable__label-arrow:before {color: black;}#sk-container-id-6 div.sk-toggleable__content {max-height: 0;max-width: 0;overflow: hidden;text-align: left;background-color: #f0f8ff;}#sk-container-id-6 div.sk-toggleable__content pre {margin: 0.2em;color: black;border-radius: 0.25em;background-color: #f0f8ff;}#sk-container-id-6 input.sk-toggleable__control:checked~div.sk-toggleable__content {max-height: 200px;max-width: 100%;overflow: auto;}#sk-container-id-6 input.sk-toggleable__control:checked~label.sk-toggleable__label-arrow:before {content: \"▾\";}#sk-container-id-6 div.sk-estimator input.sk-toggleable__control:checked~label.sk-toggleable__label {background-color: #d4ebff;}#sk-container-id-6 div.sk-label input.sk-toggleable__control:checked~label.sk-toggleable__label {background-color: #d4ebff;}#sk-container-id-6 input.sk-hidden--visually {border: 0;clip: rect(1px 1px 1px 1px);clip: rect(1px, 1px, 1px, 1px);height: 1px;margin: -1px;overflow: hidden;padding: 0;position: absolute;width: 1px;}#sk-container-id-6 div.sk-estimator {font-family: monospace;background-color: #f0f8ff;border: 1px dotted black;border-radius: 0.25em;box-sizing: border-box;margin-bottom: 0.5em;}#sk-container-id-6 div.sk-estimator:hover {background-color: #d4ebff;}#sk-container-id-6 div.sk-parallel-item::after {content: \"\";width: 100%;border-bottom: 1px solid gray;flex-grow: 1;}#sk-container-id-6 div.sk-label:hover label.sk-toggleable__label {background-color: #d4ebff;}#sk-container-id-6 div.sk-serial::before {content: \"\";position: absolute;border-left: 1px solid gray;box-sizing: border-box;top: 0;bottom: 0;left: 50%;z-index: 0;}#sk-container-id-6 div.sk-serial {display: flex;flex-direction: column;align-items: center;background-color: white;padding-right: 0.2em;padding-left: 0.2em;position: relative;}#sk-container-id-6 div.sk-item {position: relative;z-index: 1;}#sk-container-id-6 div.sk-parallel {display: flex;align-items: stretch;justify-content: center;background-color: white;position: relative;}#sk-container-id-6 div.sk-item::before, #sk-container-id-6 div.sk-parallel-item::before {content: \"\";position: absolute;border-left: 1px solid gray;box-sizing: border-box;top: 0;bottom: 0;left: 50%;z-index: -1;}#sk-container-id-6 div.sk-parallel-item {display: flex;flex-direction: column;z-index: 1;position: relative;background-color: white;}#sk-container-id-6 div.sk-parallel-item:first-child::after {align-self: flex-end;width: 50%;}#sk-container-id-6 div.sk-parallel-item:last-child::after {align-self: flex-start;width: 50%;}#sk-container-id-6 div.sk-parallel-item:only-child::after {width: 0;}#sk-container-id-6 div.sk-dashed-wrapped {border: 1px dashed gray;margin: 0 0.4em 0.5em 0.4em;box-sizing: border-box;padding-bottom: 0.4em;background-color: white;}#sk-container-id-6 div.sk-label label {font-family: monospace;font-weight: bold;display: inline-block;line-height: 1.2em;}#sk-container-id-6 div.sk-label-container {text-align: center;}#sk-container-id-6 div.sk-container {/* jupyter's `normalize.less` sets `[hidden] { display: none; }` but bootstrap.min.css set `[hidden] { display: none !important; }` so we also need the `!important` here to be able to override the default hidden behavior on the sphinx rendered scikit-learn.org. See: https://github.com/scikit-learn/scikit-learn/issues/21755 */display: inline-block !important;position: relative;}#sk-container-id-6 div.sk-text-repr-fallback {display: none;}</style><div id=\"sk-container-id-6\" class=\"sk-top-container\"><div class=\"sk-text-repr-fallback\"><pre>DecisionTreeRegressor(max_leaf_nodes=8)</pre><b>In a Jupyter environment, please rerun this cell to show the HTML representation or trust the notebook. <br />On GitHub, the HTML representation is unable to render, please try loading this page with nbviewer.org.</b></div><div class=\"sk-container\" hidden><div class=\"sk-item\"><div class=\"sk-estimator sk-toggleable\"><input class=\"sk-toggleable__control sk-hidden--visually\" id=\"sk-estimator-id-6\" type=\"checkbox\" checked><label for=\"sk-estimator-id-6\" class=\"sk-toggleable__label sk-toggleable__label-arrow\">DecisionTreeRegressor</label><div class=\"sk-toggleable__content\"><pre>DecisionTreeRegressor(max_leaf_nodes=8)</pre></div></div></div></div></div>"
      ],
      "text/plain": [
       "DecisionTreeRegressor(max_leaf_nodes=8)"
      ]
     },
     "execution_count": 33,
     "metadata": {},
     "output_type": "execute_result"
    }
   ],
   "source": [
    "# build DT\n",
    "from sklearn.tree import DecisionTreeRegressor\n",
    "dt = DecisionTreeRegressor(max_leaf_nodes=8)\n",
    "dt.fit(df['x'].values.reshape(100,1), df['loss1'].values)"
   ]
  },
  {
   "cell_type": "code",
   "execution_count": 14,
   "id": "1dce4748",
   "metadata": {},
   "outputs": [
    {
     "data": {
      "image/png": "[encoded data removed]",
      "text/plain": [
       "<Figure size 640x480 with 1 Axes>"
      ]
     },
     "metadata": {},
     "output_type": "display_data"
    }
   ],
   "source": [
    "from sklearn.tree import plot_tree\n",
    "plot_tree(dt)\n",
    "plt.show()"
   ]
  },
  {
   "cell_type": "code",
   "execution_count": 15,
   "id": "94e38337",
   "metadata": {},
   "outputs": [],
   "source": [
    "x_test = np.linspace(-0.5,0.5,500)"
   ]
  },
  {
   "cell_type": "code",
   "execution_count": 16,
   "id": "238a45a2",
   "metadata": {},
   "outputs": [
    {
     "data": {
      "text/plain": [
       "array([-0.5       , -0.49799599, -0.49599198, -0.49398798, -0.49198397,\n",
       "       -0.48997996, -0.48797595, -0.48597194, -0.48396794, -0.48196393,\n",
       "       -0.47995992, -0.47795591, -0.4759519 , -0.4739479 , -0.47194389,\n",
       "       -0.46993988, -0.46793587, -0.46593186, -0.46392786, -0.46192385,\n",
       "       -0.45991984, -0.45791583, -0.45591182, -0.45390782, -0.45190381,\n",
       "       -0.4498998 , -0.44789579, -0.44589178, -0.44388778, -0.44188377,\n",
       "       -0.43987976, -0.43787575, -0.43587174, -0.43386774, -0.43186373,\n",
       "       -0.42985972, -0.42785571, -0.4258517 , -0.4238477 , -0.42184369,\n",
       "       -0.41983968, -0.41783567, -0.41583166, -0.41382766, -0.41182365,\n",
       "       -0.40981964, -0.40781563, -0.40581162, -0.40380762, -0.40180361,\n",
       "       -0.3997996 , -0.39779559, -0.39579158, -0.39378758, -0.39178357,\n",
       "       -0.38977956, -0.38777555, -0.38577154, -0.38376754, -0.38176353,\n",
       "       -0.37975952, -0.37775551, -0.3757515 , -0.37374749, -0.37174349,\n",
       "       -0.36973948, -0.36773547, -0.36573146, -0.36372745, -0.36172345,\n",
       "       -0.35971944, -0.35771543, -0.35571142, -0.35370741, -0.35170341,\n",
       "       -0.3496994 , -0.34769539, -0.34569138, -0.34368737, -0.34168337,\n",
       "       -0.33967936, -0.33767535, -0.33567134, -0.33366733, -0.33166333,\n",
       "       -0.32965932, -0.32765531, -0.3256513 , -0.32364729, -0.32164329,\n",
       "       -0.31963928, -0.31763527, -0.31563126, -0.31362725, -0.31162325,\n",
       "       -0.30961924, -0.30761523, -0.30561122, -0.30360721, -0.30160321,\n",
       "       -0.2995992 , -0.29759519, -0.29559118, -0.29358717, -0.29158317,\n",
       "       -0.28957916, -0.28757515, -0.28557114, -0.28356713, -0.28156313,\n",
       "       -0.27955912, -0.27755511, -0.2755511 , -0.27354709, -0.27154309,\n",
       "       -0.26953908, -0.26753507, -0.26553106, -0.26352705, -0.26152305,\n",
       "       -0.25951904, -0.25751503, -0.25551102, -0.25350701, -0.25150301,\n",
       "       -0.249499  , -0.24749499, -0.24549098, -0.24348697, -0.24148297,\n",
       "       -0.23947896, -0.23747495, -0.23547094, -0.23346693, -0.23146293,\n",
       "       -0.22945892, -0.22745491, -0.2254509 , -0.22344689, -0.22144289,\n",
       "       -0.21943888, -0.21743487, -0.21543086, -0.21342685, -0.21142285,\n",
       "       -0.20941884, -0.20741483, -0.20541082, -0.20340681, -0.20140281,\n",
       "       -0.1993988 , -0.19739479, -0.19539078, -0.19338677, -0.19138277,\n",
       "       -0.18937876, -0.18737475, -0.18537074, -0.18336673, -0.18136273,\n",
       "       -0.17935872, -0.17735471, -0.1753507 , -0.17334669, -0.17134269,\n",
       "       -0.16933868, -0.16733467, -0.16533066, -0.16332665, -0.16132265,\n",
       "       -0.15931864, -0.15731463, -0.15531062, -0.15330661, -0.15130261,\n",
       "       -0.1492986 , -0.14729459, -0.14529058, -0.14328657, -0.14128257,\n",
       "       -0.13927856, -0.13727455, -0.13527054, -0.13326653, -0.13126253,\n",
       "       -0.12925852, -0.12725451, -0.1252505 , -0.12324649, -0.12124248,\n",
       "       -0.11923848, -0.11723447, -0.11523046, -0.11322645, -0.11122244,\n",
       "       -0.10921844, -0.10721443, -0.10521042, -0.10320641, -0.1012024 ,\n",
       "       -0.0991984 , -0.09719439, -0.09519038, -0.09318637, -0.09118236,\n",
       "       -0.08917836, -0.08717435, -0.08517034, -0.08316633, -0.08116232,\n",
       "       -0.07915832, -0.07715431, -0.0751503 , -0.07314629, -0.07114228,\n",
       "       -0.06913828, -0.06713427, -0.06513026, -0.06312625, -0.06112224,\n",
       "       -0.05911824, -0.05711423, -0.05511022, -0.05310621, -0.0511022 ,\n",
       "       -0.0490982 , -0.04709419, -0.04509018, -0.04308617, -0.04108216,\n",
       "       -0.03907816, -0.03707415, -0.03507014, -0.03306613, -0.03106212,\n",
       "       -0.02905812, -0.02705411, -0.0250501 , -0.02304609, -0.02104208,\n",
       "       -0.01903808, -0.01703407, -0.01503006, -0.01302605, -0.01102204,\n",
       "       -0.00901804, -0.00701403, -0.00501002, -0.00300601, -0.001002  ,\n",
       "        0.001002  ,  0.00300601,  0.00501002,  0.00701403,  0.00901804,\n",
       "        0.01102204,  0.01302605,  0.01503006,  0.01703407,  0.01903808,\n",
       "        0.02104208,  0.02304609,  0.0250501 ,  0.02705411,  0.02905812,\n",
       "        0.03106212,  0.03306613,  0.03507014,  0.03707415,  0.03907816,\n",
       "        0.04108216,  0.04308617,  0.04509018,  0.04709419,  0.0490982 ,\n",
       "        0.0511022 ,  0.05310621,  0.05511022,  0.05711423,  0.05911824,\n",
       "        0.06112224,  0.06312625,  0.06513026,  0.06713427,  0.06913828,\n",
       "        0.07114228,  0.07314629,  0.0751503 ,  0.07715431,  0.07915832,\n",
       "        0.08116232,  0.08316633,  0.08517034,  0.08717435,  0.08917836,\n",
       "        0.09118236,  0.09318637,  0.09519038,  0.09719439,  0.0991984 ,\n",
       "        0.1012024 ,  0.10320641,  0.10521042,  0.10721443,  0.10921844,\n",
       "        0.11122244,  0.11322645,  0.11523046,  0.11723447,  0.11923848,\n",
       "        0.12124248,  0.12324649,  0.1252505 ,  0.12725451,  0.12925852,\n",
       "        0.13126253,  0.13326653,  0.13527054,  0.13727455,  0.13927856,\n",
       "        0.14128257,  0.14328657,  0.14529058,  0.14729459,  0.1492986 ,\n",
       "        0.15130261,  0.15330661,  0.15531062,  0.15731463,  0.15931864,\n",
       "        0.16132265,  0.16332665,  0.16533066,  0.16733467,  0.16933868,\n",
       "        0.17134269,  0.17334669,  0.1753507 ,  0.17735471,  0.17935872,\n",
       "        0.18136273,  0.18336673,  0.18537074,  0.18737475,  0.18937876,\n",
       "        0.19138277,  0.19338677,  0.19539078,  0.19739479,  0.1993988 ,\n",
       "        0.20140281,  0.20340681,  0.20541082,  0.20741483,  0.20941884,\n",
       "        0.21142285,  0.21342685,  0.21543086,  0.21743487,  0.21943888,\n",
       "        0.22144289,  0.22344689,  0.2254509 ,  0.22745491,  0.22945892,\n",
       "        0.23146293,  0.23346693,  0.23547094,  0.23747495,  0.23947896,\n",
       "        0.24148297,  0.24348697,  0.24549098,  0.24749499,  0.249499  ,\n",
       "        0.25150301,  0.25350701,  0.25551102,  0.25751503,  0.25951904,\n",
       "        0.26152305,  0.26352705,  0.26553106,  0.26753507,  0.26953908,\n",
       "        0.27154309,  0.27354709,  0.2755511 ,  0.27755511,  0.27955912,\n",
       "        0.28156313,  0.28356713,  0.28557114,  0.28757515,  0.28957916,\n",
       "        0.29158317,  0.29358717,  0.29559118,  0.29759519,  0.2995992 ,\n",
       "        0.30160321,  0.30360721,  0.30561122,  0.30761523,  0.30961924,\n",
       "        0.31162325,  0.31362725,  0.31563126,  0.31763527,  0.31963928,\n",
       "        0.32164329,  0.32364729,  0.3256513 ,  0.32765531,  0.32965932,\n",
       "        0.33166333,  0.33366733,  0.33567134,  0.33767535,  0.33967936,\n",
       "        0.34168337,  0.34368737,  0.34569138,  0.34769539,  0.3496994 ,\n",
       "        0.35170341,  0.35370741,  0.35571142,  0.35771543,  0.35971944,\n",
       "        0.36172345,  0.36372745,  0.36573146,  0.36773547,  0.36973948,\n",
       "        0.37174349,  0.37374749,  0.3757515 ,  0.37775551,  0.37975952,\n",
       "        0.38176353,  0.38376754,  0.38577154,  0.38777555,  0.38977956,\n",
       "        0.39178357,  0.39378758,  0.39579158,  0.39779559,  0.3997996 ,\n",
       "        0.40180361,  0.40380762,  0.40581162,  0.40781563,  0.40981964,\n",
       "        0.41182365,  0.41382766,  0.41583166,  0.41783567,  0.41983968,\n",
       "        0.42184369,  0.4238477 ,  0.4258517 ,  0.42785571,  0.42985972,\n",
       "        0.43186373,  0.43386774,  0.43587174,  0.43787575,  0.43987976,\n",
       "        0.44188377,  0.44388778,  0.44589178,  0.44789579,  0.4498998 ,\n",
       "        0.45190381,  0.45390782,  0.45591182,  0.45791583,  0.45991984,\n",
       "        0.46192385,  0.46392786,  0.46593186,  0.46793587,  0.46993988,\n",
       "        0.47194389,  0.4739479 ,  0.4759519 ,  0.47795591,  0.47995992,\n",
       "        0.48196393,  0.48396794,  0.48597194,  0.48797595,  0.48997996,\n",
       "        0.49198397,  0.49398798,  0.49599198,  0.49799599,  0.5       ])"
      ]
     },
     "execution_count": 16,
     "metadata": {},
     "output_type": "execute_result"
    }
   ],
   "source": [
    "x_test"
   ]
  },
  {
   "cell_type": "code",
   "execution_count": 17,
   "id": "312cdb6e",
   "metadata": {},
   "outputs": [],
   "source": [
    "y_pred = 0.233+dt.predict(x_test.reshape(500,1))"
   ]
  },
  {
   "cell_type": "code",
   "execution_count": 18,
   "id": "a88f427c",
   "metadata": {},
   "outputs": [
    {
     "data": {
      "text/plain": [
       "<matplotlib.collections.PathCollection at 0x29d05229750>"
      ]
     },
     "execution_count": 18,
     "metadata": {},
     "output_type": "execute_result"
    },
    {
     "data": {
      "image/png": "[encoded data removed]",
      "text/plain": [
       "<Figure size 1400x500 with 1 Axes>"
      ]
     },
     "metadata": {},
     "output_type": "display_data"
    }
   ],
   "source": [
    "plt.figure(figsize=(14,5))\n",
    "plt.subplot(121)\n",
    "plt.plot(x_test,y_pred, linewidth=2, color='red')\n",
    "plt.scatter(df['x'],df['y'])"
   ]
  },
  {
   "cell_type": "code",
   "execution_count": 20,
   "id": "a2aeffdf",
   "metadata": {},
   "outputs": [],
   "source": [
    "df['pred2'] = 0.233+dt.predict(df['x'].values.reshape(100,1))"
   ]
  },
  {
   "cell_type": "code",
   "execution_count": 21,
   "id": "1565aa21",
   "metadata": {},
   "outputs": [
    {
     "data": {
      "text/html": [
       "<div>\n",
       "<style scoped>\n",
       "    .dataframe tbody tr th:only-of-type {\n",
       "        vertical-align: middle;\n",
       "    }\n",
       "\n",
       "    .dataframe tbody tr th {\n",
       "        vertical-align: top;\n",
       "    }\n",
       "\n",
       "    .dataframe thead th {\n",
       "        text-align: right;\n",
       "    }\n",
       "</style>\n",
       "<table border=\"1\" class=\"dataframe\">\n",
       "  <thead>\n",
       "    <tr style=\"text-align: right;\">\n",
       "      <th></th>\n",
       "      <th>x</th>\n",
       "      <th>y</th>\n",
       "      <th>pred1</th>\n",
       "      <th>loss</th>\n",
       "      <th>pred2</th>\n",
       "    </tr>\n",
       "  </thead>\n",
       "  <tbody>\n",
       "    <tr>\n",
       "      <th>0</th>\n",
       "      <td>0.016399</td>\n",
       "      <td>-0.995973</td>\n",
       "      <td>0.233664</td>\n",
       "      <td>-1.229637</td>\n",
       "      <td>0.215591</td>\n",
       "    </tr>\n",
       "    <tr>\n",
       "      <th>1</th>\n",
       "      <td>0.070668</td>\n",
       "      <td>1.357746</td>\n",
       "      <td>0.233664</td>\n",
       "      <td>1.124082</td>\n",
       "      <td>0.215591</td>\n",
       "    </tr>\n",
       "    <tr>\n",
       "      <th>2</th>\n",
       "      <td>-0.471526</td>\n",
       "      <td>-0.750504</td>\n",
       "      <td>0.233664</td>\n",
       "      <td>-0.984168</td>\n",
       "      <td>0.326326</td>\n",
       "    </tr>\n",
       "    <tr>\n",
       "      <th>3</th>\n",
       "      <td>-0.328478</td>\n",
       "      <td>-0.120401</td>\n",
       "      <td>0.233664</td>\n",
       "      <td>-0.354065</td>\n",
       "      <td>0.215591</td>\n",
       "    </tr>\n",
       "    <tr>\n",
       "      <th>4</th>\n",
       "      <td>0.185277</td>\n",
       "      <td>-0.009552</td>\n",
       "      <td>0.233664</td>\n",
       "      <td>-0.243216</td>\n",
       "      <td>0.215591</td>\n",
       "    </tr>\n",
       "  </tbody>\n",
       "</table>\n",
       "</div>"
      ],
      "text/plain": [
       "          x         y     pred1      loss     pred2\n",
       "0  0.016399 -0.995973  0.233664 -1.229637  0.215591\n",
       "1  0.070668  1.357746  0.233664  1.124082  0.215591\n",
       "2 -0.471526 -0.750504  0.233664 -0.984168  0.326326\n",
       "3 -0.328478 -0.120401  0.233664 -0.354065  0.215591\n",
       "4  0.185277 -0.009552  0.233664 -0.243216  0.215591"
      ]
     },
     "execution_count": 21,
     "metadata": {},
     "output_type": "execute_result"
    }
   ],
   "source": [
    "df.head()"
   ]
  },
  {
   "cell_type": "code",
   "execution_count": 25,
   "id": "65d0b85f",
   "metadata": {},
   "outputs": [
    {
     "data": {
      "text/html": [
       "<div>\n",
       "<style scoped>\n",
       "    .dataframe tbody tr th:only-of-type {\n",
       "        vertical-align: middle;\n",
       "    }\n",
       "\n",
       "    .dataframe tbody tr th {\n",
       "        vertical-align: top;\n",
       "    }\n",
       "\n",
       "    .dataframe thead th {\n",
       "        text-align: right;\n",
       "    }\n",
       "</style>\n",
       "<table border=\"1\" class=\"dataframe\">\n",
       "  <thead>\n",
       "    <tr style=\"text-align: right;\">\n",
       "      <th></th>\n",
       "      <th>x</th>\n",
       "      <th>y</th>\n",
       "      <th>pred1</th>\n",
       "      <th>loss</th>\n",
       "      <th>pred2</th>\n",
       "      <th>loss1</th>\n",
       "      <th>loss2</th>\n",
       "    </tr>\n",
       "  </thead>\n",
       "  <tbody>\n",
       "    <tr>\n",
       "      <th>0</th>\n",
       "      <td>0.016399</td>\n",
       "      <td>-0.995973</td>\n",
       "      <td>0.233664</td>\n",
       "      <td>-1.211563</td>\n",
       "      <td>0.215591</td>\n",
       "      <td>-1.229637</td>\n",
       "      <td>-1.211563</td>\n",
       "    </tr>\n",
       "    <tr>\n",
       "      <th>1</th>\n",
       "      <td>0.070668</td>\n",
       "      <td>1.357746</td>\n",
       "      <td>0.233664</td>\n",
       "      <td>1.142156</td>\n",
       "      <td>0.215591</td>\n",
       "      <td>1.124082</td>\n",
       "      <td>1.142156</td>\n",
       "    </tr>\n",
       "    <tr>\n",
       "      <th>2</th>\n",
       "      <td>-0.471526</td>\n",
       "      <td>-0.750504</td>\n",
       "      <td>0.233664</td>\n",
       "      <td>-1.076830</td>\n",
       "      <td>0.326326</td>\n",
       "      <td>-0.984168</td>\n",
       "      <td>-1.076830</td>\n",
       "    </tr>\n",
       "    <tr>\n",
       "      <th>3</th>\n",
       "      <td>-0.328478</td>\n",
       "      <td>-0.120401</td>\n",
       "      <td>0.233664</td>\n",
       "      <td>-0.335992</td>\n",
       "      <td>0.215591</td>\n",
       "      <td>-0.354065</td>\n",
       "      <td>-0.335992</td>\n",
       "    </tr>\n",
       "    <tr>\n",
       "      <th>4</th>\n",
       "      <td>0.185277</td>\n",
       "      <td>-0.009552</td>\n",
       "      <td>0.233664</td>\n",
       "      <td>-0.225143</td>\n",
       "      <td>0.215591</td>\n",
       "      <td>-0.243216</td>\n",
       "      <td>-0.225143</td>\n",
       "    </tr>\n",
       "  </tbody>\n",
       "</table>\n",
       "</div>"
      ],
      "text/plain": [
       "          x         y     pred1      loss     pred2     loss1     loss2\n",
       "0  0.016399 -0.995973  0.233664 -1.211563  0.215591 -1.229637 -1.211563\n",
       "1  0.070668  1.357746  0.233664  1.142156  0.215591  1.124082  1.142156\n",
       "2 -0.471526 -0.750504  0.233664 -1.076830  0.326326 -0.984168 -1.076830\n",
       "3 -0.328478 -0.120401  0.233664 -0.335992  0.215591 -0.354065 -0.335992\n",
       "4  0.185277 -0.009552  0.233664 -0.225143  0.215591 -0.243216 -0.225143"
      ]
     },
     "execution_count": 25,
     "metadata": {},
     "output_type": "execute_result"
    }
   ],
   "source": [
    "df['loss2'] = df['y']-df['pred2']\n",
    "df.head()"
   ]
  },
  {
   "cell_type": "code",
   "execution_count": 26,
   "id": "9958e44b",
   "metadata": {},
   "outputs": [
    {
     "data": {
      "text/html": [
       "<div>\n",
       "<style scoped>\n",
       "    .dataframe tbody tr th:only-of-type {\n",
       "        vertical-align: middle;\n",
       "    }\n",
       "\n",
       "    .dataframe tbody tr th {\n",
       "        vertical-align: top;\n",
       "    }\n",
       "\n",
       "    .dataframe thead th {\n",
       "        text-align: right;\n",
       "    }\n",
       "</style>\n",
       "<table border=\"1\" class=\"dataframe\">\n",
       "  <thead>\n",
       "    <tr style=\"text-align: right;\">\n",
       "      <th></th>\n",
       "      <th>x</th>\n",
       "      <th>y</th>\n",
       "      <th>pred1</th>\n",
       "      <th>pred2</th>\n",
       "      <th>loss1</th>\n",
       "      <th>loss2</th>\n",
       "    </tr>\n",
       "  </thead>\n",
       "  <tbody>\n",
       "    <tr>\n",
       "      <th>0</th>\n",
       "      <td>0.016399</td>\n",
       "      <td>-0.995973</td>\n",
       "      <td>0.233664</td>\n",
       "      <td>0.215591</td>\n",
       "      <td>-1.229637</td>\n",
       "      <td>-1.211563</td>\n",
       "    </tr>\n",
       "    <tr>\n",
       "      <th>1</th>\n",
       "      <td>0.070668</td>\n",
       "      <td>1.357746</td>\n",
       "      <td>0.233664</td>\n",
       "      <td>0.215591</td>\n",
       "      <td>1.124082</td>\n",
       "      <td>1.142156</td>\n",
       "    </tr>\n",
       "    <tr>\n",
       "      <th>2</th>\n",
       "      <td>-0.471526</td>\n",
       "      <td>-0.750504</td>\n",
       "      <td>0.233664</td>\n",
       "      <td>0.326326</td>\n",
       "      <td>-0.984168</td>\n",
       "      <td>-1.076830</td>\n",
       "    </tr>\n",
       "    <tr>\n",
       "      <th>3</th>\n",
       "      <td>-0.328478</td>\n",
       "      <td>-0.120401</td>\n",
       "      <td>0.233664</td>\n",
       "      <td>0.215591</td>\n",
       "      <td>-0.354065</td>\n",
       "      <td>-0.335992</td>\n",
       "    </tr>\n",
       "    <tr>\n",
       "      <th>4</th>\n",
       "      <td>0.185277</td>\n",
       "      <td>-0.009552</td>\n",
       "      <td>0.233664</td>\n",
       "      <td>0.215591</td>\n",
       "      <td>-0.243216</td>\n",
       "      <td>-0.225143</td>\n",
       "    </tr>\n",
       "    <tr>\n",
       "      <th>...</th>\n",
       "      <td>...</td>\n",
       "      <td>...</td>\n",
       "      <td>...</td>\n",
       "      <td>...</td>\n",
       "      <td>...</td>\n",
       "      <td>...</td>\n",
       "    </tr>\n",
       "    <tr>\n",
       "      <th>95</th>\n",
       "      <td>0.342219</td>\n",
       "      <td>1.299139</td>\n",
       "      <td>0.233664</td>\n",
       "      <td>0.616136</td>\n",
       "      <td>1.065475</td>\n",
       "      <td>0.683003</td>\n",
       "    </tr>\n",
       "    <tr>\n",
       "      <th>96</th>\n",
       "      <td>-0.115062</td>\n",
       "      <td>0.420584</td>\n",
       "      <td>0.233664</td>\n",
       "      <td>0.215591</td>\n",
       "      <td>0.186920</td>\n",
       "      <td>0.204993</td>\n",
       "    </tr>\n",
       "    <tr>\n",
       "      <th>97</th>\n",
       "      <td>0.051666</td>\n",
       "      <td>-1.005041</td>\n",
       "      <td>0.233664</td>\n",
       "      <td>0.215591</td>\n",
       "      <td>-1.238705</td>\n",
       "      <td>-1.220631</td>\n",
       "    </tr>\n",
       "    <tr>\n",
       "      <th>98</th>\n",
       "      <td>0.210538</td>\n",
       "      <td>0.057598</td>\n",
       "      <td>0.233664</td>\n",
       "      <td>0.215591</td>\n",
       "      <td>-0.176066</td>\n",
       "      <td>-0.157992</td>\n",
       "    </tr>\n",
       "    <tr>\n",
       "      <th>99</th>\n",
       "      <td>0.175279</td>\n",
       "      <td>-0.803420</td>\n",
       "      <td>0.233664</td>\n",
       "      <td>0.215591</td>\n",
       "      <td>-1.037084</td>\n",
       "      <td>-1.019011</td>\n",
       "    </tr>\n",
       "  </tbody>\n",
       "</table>\n",
       "<p>100 rows × 6 columns</p>\n",
       "</div>"
      ],
      "text/plain": [
       "           x         y     pred1     pred2     loss1     loss2\n",
       "0   0.016399 -0.995973  0.233664  0.215591 -1.229637 -1.211563\n",
       "1   0.070668  1.357746  0.233664  0.215591  1.124082  1.142156\n",
       "2  -0.471526 -0.750504  0.233664  0.326326 -0.984168 -1.076830\n",
       "3  -0.328478 -0.120401  0.233664  0.215591 -0.354065 -0.335992\n",
       "4   0.185277 -0.009552  0.233664  0.215591 -0.243216 -0.225143\n",
       "..       ...       ...       ...       ...       ...       ...\n",
       "95  0.342219  1.299139  0.233664  0.616136  1.065475  0.683003\n",
       "96 -0.115062  0.420584  0.233664  0.215591  0.186920  0.204993\n",
       "97  0.051666 -1.005041  0.233664  0.215591 -1.238705 -1.220631\n",
       "98  0.210538  0.057598  0.233664  0.215591 -0.176066 -0.157992\n",
       "99  0.175279 -0.803420  0.233664  0.215591 -1.037084 -1.019011\n",
       "\n",
       "[100 rows x 6 columns]"
      ]
     },
     "execution_count": 26,
     "metadata": {},
     "output_type": "execute_result"
    }
   ],
   "source": [
    "df.drop('loss', axis=1)"
   ]
  },
  {
   "cell_type": "code",
   "execution_count": 34,
   "id": "e99ab298",
   "metadata": {},
   "outputs": [
    {
     "data": {
      "text/html": [
       "<style>#sk-container-id-7 {color: black;background-color: white;}#sk-container-id-7 pre{padding: 0;}#sk-container-id-7 div.sk-toggleable {background-color: white;}#sk-container-id-7 label.sk-toggleable__label {cursor: pointer;display: block;width: 100%;margin-bottom: 0;padding: 0.3em;box-sizing: border-box;text-align: center;}#sk-container-id-7 label.sk-toggleable__label-arrow:before {content: \"▸\";float: left;margin-right: 0.25em;color: #696969;}#sk-container-id-7 label.sk-toggleable__label-arrow:hover:before {color: black;}#sk-container-id-7 div.sk-estimator:hover label.sk-toggleable__label-arrow:before {color: black;}#sk-container-id-7 div.sk-toggleable__content {max-height: 0;max-width: 0;overflow: hidden;text-align: left;background-color: #f0f8ff;}#sk-container-id-7 div.sk-toggleable__content pre {margin: 0.2em;color: black;border-radius: 0.25em;background-color: #f0f8ff;}#sk-container-id-7 input.sk-toggleable__control:checked~div.sk-toggleable__content {max-height: 200px;max-width: 100%;overflow: auto;}#sk-container-id-7 input.sk-toggleable__control:checked~label.sk-toggleable__label-arrow:before {content: \"▾\";}#sk-container-id-7 div.sk-estimator input.sk-toggleable__control:checked~label.sk-toggleable__label {background-color: #d4ebff;}#sk-container-id-7 div.sk-label input.sk-toggleable__control:checked~label.sk-toggleable__label {background-color: #d4ebff;}#sk-container-id-7 input.sk-hidden--visually {border: 0;clip: rect(1px 1px 1px 1px);clip: rect(1px, 1px, 1px, 1px);height: 1px;margin: -1px;overflow: hidden;padding: 0;position: absolute;width: 1px;}#sk-container-id-7 div.sk-estimator {font-family: monospace;background-color: #f0f8ff;border: 1px dotted black;border-radius: 0.25em;box-sizing: border-box;margin-bottom: 0.5em;}#sk-container-id-7 div.sk-estimator:hover {background-color: #d4ebff;}#sk-container-id-7 div.sk-parallel-item::after {content: \"\";width: 100%;border-bottom: 1px solid gray;flex-grow: 1;}#sk-container-id-7 div.sk-label:hover label.sk-toggleable__label {background-color: #d4ebff;}#sk-container-id-7 div.sk-serial::before {content: \"\";position: absolute;border-left: 1px solid gray;box-sizing: border-box;top: 0;bottom: 0;left: 50%;z-index: 0;}#sk-container-id-7 div.sk-serial {display: flex;flex-direction: column;align-items: center;background-color: white;padding-right: 0.2em;padding-left: 0.2em;position: relative;}#sk-container-id-7 div.sk-item {position: relative;z-index: 1;}#sk-container-id-7 div.sk-parallel {display: flex;align-items: stretch;justify-content: center;background-color: white;position: relative;}#sk-container-id-7 div.sk-item::before, #sk-container-id-7 div.sk-parallel-item::before {content: \"\";position: absolute;border-left: 1px solid gray;box-sizing: border-box;top: 0;bottom: 0;left: 50%;z-index: -1;}#sk-container-id-7 div.sk-parallel-item {display: flex;flex-direction: column;z-index: 1;position: relative;background-color: white;}#sk-container-id-7 div.sk-parallel-item:first-child::after {align-self: flex-end;width: 50%;}#sk-container-id-7 div.sk-parallel-item:last-child::after {align-self: flex-start;width: 50%;}#sk-container-id-7 div.sk-parallel-item:only-child::after {width: 0;}#sk-container-id-7 div.sk-dashed-wrapped {border: 1px dashed gray;margin: 0 0.4em 0.5em 0.4em;box-sizing: border-box;padding-bottom: 0.4em;background-color: white;}#sk-container-id-7 div.sk-label label {font-family: monospace;font-weight: bold;display: inline-block;line-height: 1.2em;}#sk-container-id-7 div.sk-label-container {text-align: center;}#sk-container-id-7 div.sk-container {/* jupyter's `normalize.less` sets `[hidden] { display: none; }` but bootstrap.min.css set `[hidden] { display: none !important; }` so we also need the `!important` here to be able to override the default hidden behavior on the sphinx rendered scikit-learn.org. See: https://github.com/scikit-learn/scikit-learn/issues/21755 */display: inline-block !important;position: relative;}#sk-container-id-7 div.sk-text-repr-fallback {display: none;}</style><div id=\"sk-container-id-7\" class=\"sk-top-container\"><div class=\"sk-text-repr-fallback\"><pre>DecisionTreeRegressor(max_leaf_nodes=8)</pre><b>In a Jupyter environment, please rerun this cell to show the HTML representation or trust the notebook. <br />On GitHub, the HTML representation is unable to render, please try loading this page with nbviewer.org.</b></div><div class=\"sk-container\" hidden><div class=\"sk-item\"><div class=\"sk-estimator sk-toggleable\"><input class=\"sk-toggleable__control sk-hidden--visually\" id=\"sk-estimator-id-7\" type=\"checkbox\" checked><label for=\"sk-estimator-id-7\" class=\"sk-toggleable__label sk-toggleable__label-arrow\">DecisionTreeRegressor</label><div class=\"sk-toggleable__content\"><pre>DecisionTreeRegressor(max_leaf_nodes=8)</pre></div></div></div></div></div>"
      ],
      "text/plain": [
       "DecisionTreeRegressor(max_leaf_nodes=8)"
      ]
     },
     "execution_count": 34,
     "metadata": {},
     "output_type": "execute_result"
    }
   ],
   "source": [
    "dt1 = DecisionTreeRegressor(max_leaf_nodes=8)\n",
    "dt1.fit(df['x'].values.reshape(100,1), df['loss2'].values)"
   ]
  },
  {
   "cell_type": "code",
   "execution_count": 35,
   "id": "8215bad6",
   "metadata": {},
   "outputs": [],
   "source": [
    "y_pred = 0.233 + sum(regressor.predict(x_test.reshape(-1,1)) for regressor in [dt, dt1])"
   ]
  },
  {
   "cell_type": "code",
   "execution_count": 36,
   "id": "0a0d6b6f",
   "metadata": {},
   "outputs": [
    {
     "data": {
      "text/plain": [
       "Text(0.5, 1.0, 'X vs Y')"
      ]
     },
     "execution_count": 36,
     "metadata": {},
     "output_type": "execute_result"
    },
    {
     "data": {
      "image/png": "[encoded data removed]",
      "text/plain": [
       "<Figure size 1400x500 with 1 Axes>"
      ]
     },
     "metadata": {},
     "output_type": "display_data"
    }
   ],
   "source": [
    "plt.figure(figsize=(14,5))\n",
    "plt.subplot(121)\n",
    "plt.plot(x_test,y_pred, linewidth=2, color='red')\n",
    "plt.scatter(df['x'],df['y'])\n",
    "plt.title('X vs Y')"
   ]
  },
  {
   "cell_type": "code",
   "execution_count": null,
   "id": "df4d0e19",
   "metadata": {},
   "outputs": [],
   "source": []
  },
  {
   "cell_type": "code",
   "execution_count": null,
   "id": "81b7222a",
   "metadata": {},
   "outputs": [],
   "source": []
  },
  {
   "cell_type": "code",
   "execution_count": null,
   "id": "f67b911c",
   "metadata": {},
   "outputs": [],
   "source": []
  },
  {
   "cell_type": "code",
   "execution_count": null,
   "id": "47f3f372",
   "metadata": {},
   "outputs": [],
   "source": []
  },
  {
   "cell_type": "code",
   "execution_count": null,
   "id": "07c0a148",
   "metadata": {},
   "outputs": [],
   "source": []
  },
  {
   "cell_type": "code",
   "execution_count": null,
   "id": "999d1755",
   "metadata": {},
   "outputs": [],
   "source": []
  },
  {
   "cell_type": "code",
   "execution_count": null,
   "id": "3a445ba4",
   "metadata": {},
   "outputs": [],
   "source": []
  },
  {
   "cell_type": "code",
   "execution_count": null,
   "id": "17e4c4d2",
   "metadata": {},
   "outputs": [],
   "source": []
  },
  {
   "cell_type": "code",
   "execution_count": null,
   "id": "18d05462",
   "metadata": {},
   "outputs": [],
   "source": []
  },
  {
   "cell_type": "code",
   "execution_count": null,
   "id": "bcd05fc0",
   "metadata": {},
   "outputs": [],
   "source": []
  },
  {
   "cell_type": "code",
   "execution_count": null,
   "id": "7fa44fbe",
   "metadata": {},
   "outputs": [],
   "source": []
  },
  {
   "cell_type": "code",
   "execution_count": null,
   "id": "30cfe10e",
   "metadata": {},
   "outputs": [],
   "source": []
  },
  {
   "cell_type": "code",
   "execution_count": null,
   "id": "b3dc25ba",
   "metadata": {},
   "outputs": [],
   "source": []
  },
  {
   "cell_type": "code",
   "execution_count": null,
   "id": "8ad182d2",
   "metadata": {},
   "outputs": [],
   "source": []
  },
  {
   "cell_type": "code",
   "execution_count": null,
   "id": "9e9d310a",
   "metadata": {},
   "outputs": [],
   "source": [
    "\n"
   ]
  }
 ],
 "metadata": {
  "kernelspec": {
   "display_name": "Python 3 (ipykernel)",
   "language": "python",
   "name": "python3"
  },
  "language_info": {
   "codemirror_mode": {
    "name": "ipython",
    "version": 3
   },
   "file_extension": ".py",
   "mimetype": "text/x-python",
   "name": "python",
   "nbconvert_exporter": "python",
   "pygments_lexer": "ipython3",
   "version": "3.11.5"
  }
 },
 "nbformat": 4,
 "nbformat_minor": 5
}
